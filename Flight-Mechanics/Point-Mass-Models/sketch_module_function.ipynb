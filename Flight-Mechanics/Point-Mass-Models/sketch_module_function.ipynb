{
 "cells": [
  {
   "cell_type": "code",
   "execution_count": null,
   "metadata": {},
   "outputs": [],
   "source": []
  },
  {
   "cell_type": "code",
   "execution_count": 3,
   "metadata": {
    "editable": true,
    "slideshow": {
     "slide_type": ""
    },
    "tags": []
   },
   "outputs": [],
   "source": [
    "\"\"\"\n",
    "This Function will contain everything we know that might be able to environment and functions\n",
    "\"\"\"\n",
    "\n",
    "\n",
    "def get_atmosphere_properties_with_deviation():\n",
    "    \"\"\"\n",
    "    Function dedicated to compute atmosphere properties\n",
    "    \"\"\"\n",
    "    \n",
    "\n",
    "    return 1\n",
    "\n",
    "def compute_propulsive_loads(x_state):\n",
    "\n",
    "    return 10\n",
    "\n",
    "def compute_aerodynamic_loads(x_state):\n",
    "    return 10\n",
    "\n",
    "\n",
    "\n"
   ]
  },
  {
   "cell_type": "code",
   "execution_count": 4,
   "metadata": {
    "editable": true,
    "slideshow": {
     "slide_type": ""
    },
    "tags": []
   },
   "outputs": [],
   "source": [
    "# h = 1\n",
    "# k = compute_pressure(h)\n",
    "# print(k)"
   ]
  },
  {
   "cell_type": "code",
   "execution_count": null,
   "metadata": {},
   "outputs": [],
   "source": []
  }
 ],
 "metadata": {
  "kernelspec": {
   "display_name": "Python 3 (ipykernel)",
   "language": "python",
   "name": "python3"
  },
  "language_info": {
   "codemirror_mode": {
    "name": "ipython",
    "version": 3
   },
   "file_extension": ".py",
   "mimetype": "text/x-python",
   "name": "python",
   "nbconvert_exporter": "python",
   "pygments_lexer": "ipython3",
   "version": "3.11.3"
  }
 },
 "nbformat": 4,
 "nbformat_minor": 4
}
