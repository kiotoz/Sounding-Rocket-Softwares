{
 "cells": [
  {
   "cell_type": "code",
   "execution_count": null,
   "metadata": {},
   "outputs": [],
   "source": []
  },
  {
   "cell_type": "code",
   "execution_count": 3,
   "metadata": {
    "slideshow": {
     "slide_type": ""
    },
    "tags": []
   },
   "outputs": [],
   "source": [
    "\"\"\"\n",
    "This Function will contain everything we know that might be able to environment and functions\n",
    "\"\"\"\n",
    "import numpy as np\n",
    "\n",
    "\n",
    "####\n",
    "# Module dedicated to compute forces\n",
    "###\n",
    "def get_atmosphere_properties_with_deviation():\n",
    "    \"\"\"\n",
    "    Function dedicated to compute atmosphere properties\n",
    "    \"\"\"\n",
    "    \n",
    "\n",
    "    return 1\n",
    "\n",
    "def compute_propulsive_loads(x_state):\n",
    "\n",
    "    return 10\n",
    "\n",
    "def compute_aerodynamic_loads(x_state):\n",
    "    return 10\n",
    "\n",
    "\n",
    "def compute_weight(x_state):\n",
    "    return 10\n",
    "\n",
    "def compute_launch_rail_loads(x_state):\n",
    "    \n",
    "    return 10\n",
    "\n",
    "def direct_cossin_matrix(n_axis,mu_angle):\n",
    "    return 10\n",
    "\n",
    "\n",
    "\n",
    "\n",
    "\n"
   ]
  },
  {
   "cell_type": "code",
   "execution_count": 4,
   "metadata": {
    "slideshow": {
     "slide_type": ""
    },
    "tags": []
   },
   "outputs": [],
   "source": [
    "# h = 1\n",
    "# k = compute_pressure(h)\n",
    "# print(k)"
   ]
  },
  {
   "cell_type": "code",
   "execution_count": null,
   "metadata": {},
   "outputs": [],
   "source": []
  }
 ],
 "metadata": {
  "kernelspec": {
   "display_name": "Python 3",
   "language": "python",
   "name": "python3"
  },
  "language_info": {
   "codemirror_mode": {
    "name": "ipython",
    "version": 3
   },
   "file_extension": ".py",
   "mimetype": "text/x-python",
   "name": "python",
   "nbconvert_exporter": "python",
   "pygments_lexer": "ipython3",
   "version": "3.8.12"
  }
 },
 "nbformat": 4,
 "nbformat_minor": 4
}
