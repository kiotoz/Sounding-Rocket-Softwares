{
 "cells": [
  {
   "cell_type": "code",
   "execution_count": null,
   "id": "3b5fb5c2-a285-434f-b5d6-7c09a8ecfe28",
   "metadata": {
    "editable": true,
    "slideshow": {
     "slide_type": ""
    },
    "tags": []
   },
   "outputs": [],
   "source": []
  }
 ],
 "metadata": {
  "kernelspec": {
   "display_name": "",
   "name": ""
  },
  "language_info": {
   "name": ""
  }
 },
 "nbformat": 4,
 "nbformat_minor": 5
}
